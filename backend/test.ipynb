{
 "cells": [
  {
   "cell_type": "code",
   "execution_count": 2,
   "metadata": {},
   "outputs": [
    {
     "name": "stdout",
     "output_type": "stream",
     "text": [
      "In the heart of the bustling city, there was an old bookstore that had been standing for over a century. Its façade, weathered by time and the elements, was a testament to its age and wisdom. The once-bright colors of the signboard had faded, leaving only a faint outline of the original lettering. Yet, despite its worn appearance, the store exuded an air of charm and mystique.\n",
      "\n",
      "The windows, like two large spectacles, were filled with a kaleidoscope of books. Tattered hardcovers rubbed shoulders with glossy paperbacks, each one telling a unique story. Some were dog-eared and well-loved, while others seemed to have never been opened. The titles themselves were as varied as the people who frequented the shop: classics from Dickens and Austen, contemporary bestsellers, obscure treatises on arcane subjects, and even ancient tomes bound in leather.\n",
      "\n",
      "Inside, the shop was a labyrinth of narrow aisles and towering shelves, which stretched all the way to the ceiling. The air was thick with the musty scent of old paper and the faint hint of pipe tobacco. It was a place where time seemed to stand still, where the cacophony of the outside world was muffled, and all that mattered was the written word.\n",
      "\n",
      "The proprietor, an elderly gentleman named Mr. Jenkins, was a bibliophile of the highest order. His eyes twinkled behind a pair of round spectacles, and his fingers were stained with ink. He moved through the shop with the quiet confidence of one who knew every nook and cranny, every hidden gem tucked away on some dusty shelf. For years, he had been the guardian of this literary sanctuary, curating the collection with love and care.\n",
      "\n",
      "Over the years, the shop had attracted a loyal following of book lovers, scholars, and writers. They would come from all walks of life, drawn by the siren song of the written word. Some would browse for hours, losing themselves in the pages of their favorite novels. Others would seek out Mr. Jenkins' expert advice, entrusting him with their most precious possessions – their stories, their dreams, and their fears.\n",
      "\n",
      "One such customer was a young woman named Sophia. She had stumbled upon the shop by chance, wandering the streets after a particularly difficult day. As she pushed open the creaky door, a bell above it rang out, announcing her arrival. Mr. Jenkins looked up from behind the counter, his eyes sparkling with curiosity. Sophia felt an instant connection to the place, as if she had finally found a home.\n",
      "\n",
      "Week after week, she returned to the shop, exploring the shelves and discovering new authors, new worlds, and new perspectives. Mr. Jenkins would recommend books based on her interests, and they would spend hours discussing literature, philosophy, and life. The old man became a mentor to her, guiding her through the turbulent waters of her twenties.\n",
      "\n",
      "As the years went by, Sophia's visits became less frequent. Life took her in different directions, and she found herself caught up in the whirlwind of careers, relationships, and responsibilities. Yet, whenever she needed solace, guidance, or simply a good story, she would return to the old bookstore. And there, surrounded by the dusty tomes and the comforting presence of Mr. Jenkins, she would find her bearings once more.\n",
      "\n",
      "One day, as she browsed through the shelves, her fingers trailing over the spines of the books, she came across a tattered volume of Dickens' \"Great Expectations\". It was the same edition that Mr. Jenkins had given her all those years ago, the one that had sparked her love affair with literature. As she opened the cover, a piece of paper slipped out, carrying a message in Mr. Jenkins' familiar handwriting: \"For my dear Sophia, may your own story be filled with wonder, adventure, and love.\"\n",
      "\n",
      "Tears welled up in her eyes as she realized that Mr. Jenkins had passed away, leaving behind not only his beloved bookstore but also a legacy of knowledge, compassion, and the written word. In that moment, Sophia knew what she had to do. She would carry on his work, preserving the old bookstore and ensuring that its spirit lived on for generations to come. And so, with a heavy heart and a determined spirit, she embarked on a new chapter in her life, one that would forever be intertwined with the old bookstore and the man who had changed her life.\n"
     ]
    }
   ],
   "source": [
    "from openai import OpenAI\n",
    "\n",
    "client = OpenAI(\n",
    "    api_key=\"sk-GB3lSeMqAzC67gV1crxzcztxMeYatyvWa93VCnpAa7ETkOsG\",\n",
    "    base_url=\"https://api.opentyphoon.ai/v1\",\n",
    ")\n",
    "\n",
    "messages = [{\"role\": \"user\", \"content\": \"Write me a long passage.\"}]\n",
    "kwargs = {\n",
    "    \"model\": \"typhoon-v1.5x-70b-instruct\",\n",
    "    \"max_tokens\": 1000,\n",
    "    \"temperature\": 0,\n",
    "    \"top_p\": 1,\n",
    "}\n",
    "\n",
    "stream = client.chat.completions.create(messages=messages, **kwargs)\n",
    "generated_text = stream.choices[0].message.content\n",
    "print(generated_text)"
   ]
  },
  {
   "cell_type": "code",
   "execution_count": 1,
   "metadata": {},
   "outputs": [
    {
     "name": "stdout",
     "output_type": "stream",
     "text": [
      "{'is_last_response': True, 'completion': \"As the sun began to set on the small coastal town of Willow Creek, a sense of tranquility washed over its residents. The sky was painted with hues of pink and orange, a breathtaking backdrop for the bustling streets below. The salty air carried the sound of seagulls calling out to one another, their cries echoing off the quaint buildings that lined the main street. The smell of freshly caught fish wafted from the local market, enticing passersby to come and sample the day's catch.\\n\\nIn the heart of the town square, a group of children laughed and played, their carefree spirits infectious. They chased each other around the old oak tree, its gnarled branches stretching up towards the sky like nature's own work of art. Nearby, their parents sat on benches, watching with fond smiles as their little ones burned off the day's energy. The sound of their laughter filled the air, mingling with the rustling of leaves and the distant crash of waves against the shore.\\n\\nAs the evening wore on, the townspeople began to make their way to the beach. They carried blankets and picnic baskets, eager to enjoy the cooler temperatures and the company of their neighbors. The sand was warm beneath their feet, a gentle reminder of the long summer days that had come before. As they settled in, the sky transformed into a canvas of deep blues and purples, the first stars beginning to twinkle like diamonds scattered across the fabric of the universe.\\n\\nOut on the water, a lone sailboat glided effortlessly across the surface, its white sails billowing in the gentle breeze. The sailor, a grizzled old man with a heart of gold, stood at the helm, his eyes fixed on the horizon. He had spent his entire life on these waters, and yet he still found beauty in every sunset, every wave, every gust of wind. As the stars grew brighter, he felt a sense of peace wash over him, the stress and worry of the day melting away with the ebbing tide.\\n\\nBack on the beach, the townspeople sat in comfortable silence, the only sound the gentle lapping of the water against the shore. They watched as the stars grew brighter, their faces aglow with the soft light of the setting sun. It was moments like these that they cherished, moments of peace and tranquility in a world that often seemed to move too fast. As the night wore on, they would share stories and laughter, their bonds of friendship and community strengthened by the shared experience of this perfect summer evening. And as they eventually packed up their belongings and made their way home, they would carry the memory of this night with them, a beacon of hope and joy to guide them through the days ahead.\", 'stream_token': '', 'stop_reason': 'end_of_text', 'model': 'llama3-70b-typhoon', 'total_tokens_count': 568, 'prompt_tokens_count': 17, 'completion_tokens_count': 551, 'time_to_first_token': 0.3514401912689209, 'end_time': 1719636351.4521863, 'start_time': 1719636347.0781722, 'total_latency': 4.374014139175415, 'total_tokens_per_sec': 129.8578335430527, 'completion_tokens_per_sec': 125.97124345461627, 'completion_tokens_after_first_per_sec': 136.72837519525072, 'completion_tokens_after_first_per_sec_first_ten': 138.28971474730602}\n"
     ]
    }
   ],
   "source": [
    "import requests\n",
    "import json\n",
    "\n",
    "# Define the endpoint and API key\n",
    "endpoint = \"https://kjddazcq2e2wzvzv.snova.ai/api/v1/chat/completion\"\n",
    "api_key = \"bGlnaHRuaW5nOlUyM3pMcFlHY3dmVzRzUGFy\"\n",
    "\n",
    "# Define the request payload\n",
    "payload = {\n",
    "    \"inputs\": [{\"role\": \"user\", \"content\": \"Write me a long passage.\"}],\n",
    "    \"max_tokens\": 1000,\n",
    "    \"stop\": [\"<|eot_id|>\", \"<|end_of_text|>\"],\n",
    "    \"temperature\": 0,\n",
    "    \"model\": \"llama3-70b-typhoon\",\n",
    "    \"stream\": False,\n",
    "}\n",
    "\n",
    "# Set the headers\n",
    "headers = {\"Authorization\": f\"Basic {api_key}\", \"Content-Type\": \"application/json\"}\n",
    "\n",
    "# Make the POST request\n",
    "response = requests.post(endpoint, headers=headers, data=json.dumps(payload))\n",
    "\n",
    "# Check for a successful response\n",
    "if response.status_code == 200:\n",
    "    # result = response.json()\n",
    "    response_content = response.content.decode().split(\"\\n\\n\")[-2].split(\"data: \")[-1]\n",
    "    print(json.loads(response_content))\n",
    "else:\n",
    "    print(f\"Request failed with status code {response.status_code}\")\n",
    "    print(response.text)"
   ]
  }
 ],
 "metadata": {
  "kernelspec": {
   "display_name": "blda",
   "language": "python",
   "name": "python3"
  },
  "language_info": {
   "codemirror_mode": {
    "name": "ipython",
    "version": 3
   },
   "file_extension": ".py",
   "mimetype": "text/x-python",
   "name": "python",
   "nbconvert_exporter": "python",
   "pygments_lexer": "ipython3",
   "version": "3.10.14"
  }
 },
 "nbformat": 4,
 "nbformat_minor": 2
}
