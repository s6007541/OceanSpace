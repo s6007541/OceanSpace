{
 "cells": [
  {
   "cell_type": "code",
   "execution_count": 3,
   "metadata": {},
   "outputs": [
    {
     "name": "stdout",
     "output_type": "stream",
     "text": [
      "As the sun dipped below the horizon, casting a warm orange glow over the vast expanse of the ocean, a sense of tranquility washed over the small coastal town of Tideswell. The salty air was filled with the sweet scent of blooming beach flowers and the sound of seagulls calling out to one another as they soared overhead. The once bustling streets were now quiet, save for the occasional passerby strolling along the waterfront, taking in the serene atmosphere.\n",
      "\n",
      "In the heart of the town square, an old man sat on a weathered wooden bench, his gnarled hands clasped together in his lap. His eyes, a deep shade of blue that seemed to hold a world of wisdom, gazed out at the sea, lost in thought. He had lived in Tideswell all his life, watching generations come and go, each leaving their mark on the town. He remembered when the fishing industry was thriving, and the harbor was bustling with boats returning from their daily hauls. He recalled the laughter of children playing on the beach, their joyous screams carrying on the wind as they chased after one another, completely carefree.\n",
      "\n",
      "The old man's thoughts were interrupted by the sound of footsteps approaching. A young girl, no older than ten, with curly brown hair and bright green eyes, appeared before him. She carried a small bucket in one hand and a net in the other, her face alight with excitement. \"Mr. Jenkins,\" she exclaimed, \"I caught a crab! Would you like to see it?\" The old man smiled, his wrinkled face creasing further, and nodded his head. The girl eagerly opened her bucket, revealing a small, wriggling crustacean inside. Mr. Jenkins reached out a hand, gently touching the crab's shell. \"Well done, Lily,\" he said, his voice low and soothing. \"You have quite the knack for this.\"\n",
      "\n",
      "As the two sat together on the bench, the sun dipping lower in the sky, the old man began to tell a story. It was one he had told many times before, but one that never grew old. It was the tale of how Tideswell came to be, of the brave settlers who ventured onto the untamed coast, carving out a life amidst the harsh elements. He spoke of storms that raged and waves that crashed, of the indomitable spirit of the people who called this place home. As he spoke, the girl's eyes grew wide with wonder, her imagination running wild with visions of a time long past.\n",
      "\n",
      "As the stars began to twinkle in the night sky, the old man finished his tale, and the girl clapped her hands in delight. \"Thank you, Mr. Jenkins,\" she said, her voice full of gratitude. \"I'll never forget that story.\" The old man smiled once more, feeling a sense of contentment wash over him. He knew that the story would live on through Lily, and that she would one day pass it down to her own children and grandchildren. And as he watched her skip away, bucket and net in hand, he felt a sense of peace settle over him. For in that moment, he knew that the spirit of Tideswell was in good hands, and that its history would never be forgotten.\n"
     ]
    }
   ],
   "source": [
    "from openai import OpenAI\n",
    "\n",
    "client = OpenAI(\n",
    "    api_key=\"sk-GB3lSeMqAzC67gV1crxzcztxMeYatyvWa93VCnpAa7ETkOsG\",\n",
    "    base_url=\"https://api.opentyphoon.ai/v1\",\n",
    ")\n",
    "\n",
    "messages = [{\"role\": \"user\", \"content\": \"Write me a long passage.\"}]\n",
    "kwargs = {\n",
    "    \"model\": \"typhoon-v1.5x-70b-instruct\",\n",
    "    \"max_tokens\": 1000,\n",
    "    \"temperature\": 0,\n",
    "    \"top_p\": 1,\n",
    "}\n",
    "\n",
    "stream = client.chat.completions.create(messages=messages, **kwargs)\n",
    "generated_text = stream.choices[0].message.content\n",
    "print(generated_text)"
   ]
  },
  {
   "cell_type": "code",
   "execution_count": 4,
   "metadata": {},
   "outputs": [
    {
     "name": "stdout",
     "output_type": "stream",
     "text": [
      "{'is_last_response': True, 'completion': \"As the sun began to set on the small coastal town of Willow Creek, a sense of tranquility washed over its residents. The sky was painted with hues of pink and orange, a breathtaking backdrop for the bustling streets below. The salty air carried the sound of seagulls calling out to one another, their cries echoing off the quaint buildings that lined the main street. The smell of freshly caught fish wafted from the local market, enticing passersby to come and sample the day's catch.\\n\\nIn the heart of the town square, a group of children laughed and played, their carefree spirits infectious. They chased each other around the old oak tree, its gnarled branches stretching up towards the sky like nature's own work of art. Nearby, their parents sat on benches, watching with fond smiles as their little ones burned off the day's energy. The sound of their laughter filled the air, mingling with the rustling of leaves and the distant crash of waves against the shore.\\n\\nAs the evening wore on, the townspeople began to make their way to the beach. They carried blankets and picnic baskets, eager to enjoy the cooler temperatures and the company of their neighbors. The sand was warm beneath their feet, a gentle reminder of the long summer days that had come before. As they settled in, the sky transformed into a canvas of deep blues and purples, the first stars beginning to twinkle like diamonds scattered across the fabric of the universe.\\n\\nOut on the water, a lone sailboat glided effortlessly across the surface, its white sails billowing in the gentle breeze. The sailor, a grizzled old man with a heart of gold, stood at the helm, his eyes fixed on the horizon. He had spent his entire life on these waters, and yet he still found beauty in every sunset, every wave, every gust of wind. As the stars grew brighter, he felt a sense of peace wash over him, the stress and worry of the day melting away with the ebbing tide.\\n\\nBack on the beach, the townspeople sat in comfortable silence, the only sound the gentle lapping of the water against the shore. They watched as the stars grew brighter, their faces aglow with the soft light of the setting sun. It was moments like these that they cherished, moments of peace and tranquility in a world that often seemed to move too fast. As the night wore on, they would share stories and laughter, their bonds of friendship and community strengthened by the shared experience of this perfect summer evening. And as they eventually packed up their belongings and made their way home, they would carry the memory of this night with them, a beacon of hope and joy to guide them through the days ahead.\", 'stream_token': '', 'stop_reason': 'end_of_text', 'model': 'llama3-70b-typhoon', 'total_tokens_count': 568, 'prompt_tokens_count': 17, 'completion_tokens_count': 551, 'time_to_first_token': 0.35246992111206055, 'end_time': 1719636684.3672006, 'start_time': 1719636679.9806213, 'total_latency': 4.386579275131226, 'total_tokens_per_sec': 129.48586230280955, 'completion_tokens_per_sec': 125.61040515642264, 'completion_tokens_after_first_per_sec': 136.33740479841913, 'completion_tokens_after_first_per_sec_first_ten': 136.34396671289875}\n"
     ]
    }
   ],
   "source": [
    "import requests\n",
    "import json\n",
    "\n",
    "# Define the endpoint and API key\n",
    "endpoint = \"https://kjddazcq2e2wzvzv.snova.ai/api/v1/chat/completion\"\n",
    "api_key = \"bGlnaHRuaW5nOlUyM3pMcFlHY3dmVzRzUGFy\"\n",
    "\n",
    "# Define the request payload\n",
    "payload = {\n",
    "    \"inputs\": [{\"role\": \"user\", \"content\": \"Write me a long passage.\"}],\n",
    "    \"max_tokens\": 1000,\n",
    "    \"stop\": [\"<|eot_id|>\", \"<|end_of_text|>\"],\n",
    "    \"temperature\": 0,\n",
    "    \"model\": \"llama3-70b-typhoon\",\n",
    "    \"stream\": False,\n",
    "}\n",
    "\n",
    "# Set the headers\n",
    "headers = {\"Authorization\": f\"Basic {api_key}\", \"Content-Type\": \"application/json\"}\n",
    "\n",
    "# Make the POST request\n",
    "response = requests.post(endpoint, headers=headers, data=json.dumps(payload))\n",
    "\n",
    "# Check for a successful response\n",
    "if response.status_code == 200:\n",
    "    # result = response.json()\n",
    "    response_content = response.content.decode().split(\"\\n\\n\")[-2].split(\"data: \")[-1]\n",
    "    print(json.loads(response_content))\n",
    "else:\n",
    "    print(f\"Request failed with status code {response.status_code}\")\n",
    "    print(response.text)"
   ]
  }
 ],
 "metadata": {
  "kernelspec": {
   "display_name": "blda",
   "language": "python",
   "name": "python3"
  },
  "language_info": {
   "codemirror_mode": {
    "name": "ipython",
    "version": 3
   },
   "file_extension": ".py",
   "mimetype": "text/x-python",
   "name": "python",
   "nbconvert_exporter": "python",
   "pygments_lexer": "ipython3",
   "version": "3.10.14"
  }
 },
 "nbformat": 4,
 "nbformat_minor": 2
}
