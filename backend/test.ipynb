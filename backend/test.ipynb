{
 "cells": [
  {
   "cell_type": "code",
   "execution_count": 24,
   "metadata": {},
   "outputs": [
    {
     "name": "stdout",
     "output_type": "stream",
     "text": [
      "{\"is_last_response\": true, \"completion\": \"As the sun began to set on the small coastal town of Willow Creek, a sense of tranquility washed over its residents. The sky was painted with hues of pink and orange, a breathtaking backdrop for the bustling streets below. The salty air carried the sound of seagulls calling out to one another, their cries echoing off the quaint buildings that lined the main street. The smell of freshly caught fish wafted from the local market, enticing passersby to come and sample the day's catch.\\n\\nIn the heart of the town square, a group of children laughed and played, their carefree spirits infectious. They chased each other around the old oak tree, its gnarled branches stretching up towards the sky like nature's own work of art. Nearby, their parents sat on benches, watching with fond smiles as their little ones burned off the day's energy. The sound of their laughter filled the air, mingling with the rustling of leaves and the distant crash of waves against the shore.\\n\\nAs the evening wore on, the townspeople began to make their way to the beach. They carried blankets and picnic baskets, eager to enjoy the cooler temperatures and the company of their neighbors. The sand was warm beneath their feet, a gentle reminder of the long summer days that had come before. As they settled in, the sky transformed into a canvas of deep blues and purples, the first stars beginning to twinkle like diamonds scattered across the fabric of the universe.\\n\\nOut on the water, a lone sailboat glided effortlessly across the surface, its white sails billowing in the gentle breeze. The sailor, a grizzled old man with a heart of gold, stood at the helm, his eyes fixed on the horizon. He had spent his entire life on these waters, and yet he still found beauty in every sunset, every wave, every gust of wind. As the stars grew brighter, he felt a sense of peace wash over him, the stress and worry of the day melting away with the ebbing tide.\\n\\nBack on the beach, the townspeople sat in comfortable silence, the only sound the gentle lapping of the water against the shore. They watched as the stars grew brighter, their faces aglow with the soft light of the setting sun. It was moments like these that they cherished, moments of peace and tranquility in a world that often seemed to move too fast. As the night wore on, they would share stories and laughter, their bonds of friendship and community strengthened by the shared experience of this perfect summer evening. And as they eventually packed up their belongings and made their way home, they would carry the memory of this night with them, a beacon of hope and joy to guide them through the days ahead.\", \"stream_token\": \"\", \"stop_reason\": \"end_of_text\", \"model\": \"llama3-70b-typhoon\", \"total_tokens_count\": 568, \"prompt_tokens_count\": 17, \"completion_tokens_count\": 551, \"time_to_first_token\": 0.3515629768371582, \"end_time\": 1719556080.380459, \"start_time\": 1719556076.02926, \"total_latency\": 4.351199150085449, \"total_tokens_per_sec\": 130.53872746524266, \"completion_tokens_per_sec\": 126.63175850941674, \"completion_tokens_after_first_per_sec\": 137.51250768224736, \"completion_tokens_after_first_per_sec_first_ten\": 138.69594259449093}\n",
      "{'is_last_response': True, 'completion': \"As the sun began to set on the small coastal town of Willow Creek, a sense of tranquility washed over its residents. The sky was painted with hues of pink and orange, a breathtaking backdrop for the bustling streets below. The salty air carried the sound of seagulls calling out to one another, their cries echoing off the quaint buildings that lined the main street. The smell of freshly caught fish wafted from the local market, enticing passersby to come and sample the day's catch.\\n\\nIn the heart of the town square, a group of children laughed and played, their carefree spirits infectious. They chased each other around the old oak tree, its gnarled branches stretching up towards the sky like nature's own work of art. Nearby, their parents sat on benches, watching with fond smiles as their little ones burned off the day's energy. The sound of their laughter filled the air, mingling with the rustling of leaves and the distant crash of waves against the shore.\\n\\nAs the evening wore on, the townspeople began to make their way to the beach. They carried blankets and picnic baskets, eager to enjoy the cooler temperatures and the company of their neighbors. The sand was warm beneath their feet, a gentle reminder of the long summer days that had come before. As they settled in, the sky transformed into a canvas of deep blues and purples, the first stars beginning to twinkle like diamonds scattered across the fabric of the universe.\\n\\nOut on the water, a lone sailboat glided effortlessly across the surface, its white sails billowing in the gentle breeze. The sailor, a grizzled old man with a heart of gold, stood at the helm, his eyes fixed on the horizon. He had spent his entire life on these waters, and yet he still found beauty in every sunset, every wave, every gust of wind. As the stars grew brighter, he felt a sense of peace wash over him, the stress and worry of the day melting away with the ebbing tide.\\n\\nBack on the beach, the townspeople sat in comfortable silence, the only sound the gentle lapping of the water against the shore. They watched as the stars grew brighter, their faces aglow with the soft light of the setting sun. It was moments like these that they cherished, moments of peace and tranquility in a world that often seemed to move too fast. As the night wore on, they would share stories and laughter, their bonds of friendship and community strengthened by the shared experience of this perfect summer evening. And as they eventually packed up their belongings and made their way home, they would carry the memory of this night with them, a beacon of hope and joy to guide them through the days ahead.\", 'stream_token': '', 'stop_reason': 'end_of_text', 'model': 'llama3-70b-typhoon', 'total_tokens_count': 568, 'prompt_tokens_count': 17, 'completion_tokens_count': 551, 'time_to_first_token': 0.3515629768371582, 'end_time': 1719556080.380459, 'start_time': 1719556076.02926, 'total_latency': 4.351199150085449, 'total_tokens_per_sec': 130.53872746524266, 'completion_tokens_per_sec': 126.63175850941674, 'completion_tokens_after_first_per_sec': 137.51250768224736, 'completion_tokens_after_first_per_sec_first_ten': 138.69594259449093}\n"
     ]
    }
   ],
   "source": [
    "import requests\n",
    "import json\n",
    "\n",
    "# Define the endpoint and API key\n",
    "endpoint = \"https://kjddazcq2e2wzvzv.snova.ai/api/v1/chat/completion\"\n",
    "api_key = \"bGlnaHRuaW5nOlUyM3pMcFlHY3dmVzRzUGFy\"\n",
    "\n",
    "# Define the request payload\n",
    "payload = {\n",
    "    \"inputs\": [{\"role\": \"user\", \"content\": \"Write me a long passage.\"}],\n",
    "    \"max_tokens\": 1000,\n",
    "    \"stop\": [\"<|eot_id|>\", \"<|end_of_text|>\"],\n",
    "    \"temperature\": 0.5,\n",
    "    \"model\": \"llama3-70b-typhoon\",\n",
    "    \"stream\": False,\n",
    "}\n",
    "\n",
    "# Set the headers\n",
    "headers = {\"Authorization\": f\"Basic {api_key}\", \"Content-Type\": \"application/json\"}\n",
    "\n",
    "# Make the POST request\n",
    "response = requests.post(endpoint, headers=headers, data=json.dumps(payload))\n",
    "\n",
    "# Check for a successful response\n",
    "if response.status_code == 200:\n",
    "    # result = response.json()\n",
    "    response_content = response.content.decode().split(\"\\n\\n\")[-2].split(\"data: \")[-1]\n",
    "    print(json.loads(response_content))\n",
    "else:\n",
    "    print(f\"Request failed with status code {response.status_code}\")\n",
    "    print(response.text)"
   ]
  }
 ],
 "metadata": {
  "kernelspec": {
   "display_name": "blda",
   "language": "python",
   "name": "python3"
  },
  "language_info": {
   "codemirror_mode": {
    "name": "ipython",
    "version": 3
   },
   "file_extension": ".py",
   "mimetype": "text/x-python",
   "name": "python",
   "nbconvert_exporter": "python",
   "pygments_lexer": "ipython3",
   "version": "3.10.14"
  }
 },
 "nbformat": 4,
 "nbformat_minor": 2
}
